{
 "cells": [
  {
   "cell_type": "code",
   "execution_count": 19,
   "id": "bcc87174-a7ec-4e5c-aa93-89bd7f762867",
   "metadata": {},
   "outputs": [
    {
     "data": {
      "text/html": [
       "<h1><center>Some Basic Visualisation of Jupyter Lab Workflow using Voila Dashboard</center></h1>"
      ],
      "text/plain": [
       "<IPython.core.display.HTML object>"
      ]
     },
     "metadata": {},
     "output_type": "display_data"
    }
   ],
   "source": [
    "display(HTML('<h1><center>Some Basic Visualisation of Jupyter Lab Workflow using Voila Dashboard</center></h1>'))"
   ]
  },
  {
   "cell_type": "code",
   "execution_count": 4,
   "id": "469cc221-6d87-4de1-b3ca-db22678c5293",
   "metadata": {},
   "outputs": [
    {
     "data": {
      "text/html": [
       "<p><h3><center>This a a simple Dashboard made with Jupyter notebook & Voila</center></h3></p>"
      ],
      "text/plain": [
       "<IPython.core.display.HTML object>"
      ]
     },
     "metadata": {},
     "output_type": "display_data"
    }
   ],
   "source": [
    "display(HTML('<p><h3><center>This a a simple Dashboard made with Jupyter notebook & Voila</center></h3></p>'))"
   ]
  },
  {
   "cell_type": "code",
   "execution_count": 5,
   "id": "c4dac33b-1c74-485f-8864-15f136f5da00",
   "metadata": {},
   "outputs": [
    {
     "data": {
      "text/html": [
       "<p><h4>The Dataset</h4></p>"
      ],
      "text/plain": [
       "<IPython.core.display.HTML object>"
      ]
     },
     "metadata": {},
     "output_type": "display_data"
    }
   ],
   "source": [
    "display(HTML('<p><h4>The Dataset</h4></p>'))"
   ]
  },
  {
   "cell_type": "code",
   "execution_count": 10,
   "id": "ae10e0d7-a0c9-4fed-a44d-92b40baf90bb",
   "metadata": {},
   "outputs": [
    {
     "name": "stdout",
     "output_type": "stream",
     "text": [
      "Name: John, Age: 30, City: New York\n",
      "Name: Alice, Age: 25, City: Los Angeles\n",
      "Name: Bob, Age: 35, City: Chicago\n",
      "Name: Eve, Age: 28, City: San Francisco\n"
     ]
    }
   ],
   "source": [
    "data = [\n",
    "    {'Name': 'John', 'Age': 30, 'City': 'New York'},\n",
    "    {'Name': 'Alice', 'Age': 25, 'City': 'Los Angeles'},\n",
    "    {'Name': 'Bob', 'Age': 35, 'City': 'Chicago'}\n",
    "]\n",
    "\n",
    "new_entry = {'Name': 'Eve', 'Age': 28, 'City': 'San Francisco'}\n",
    "data.append(new_entry)\n",
    "\n",
    "def display_data(data):\n",
    "    for row in data:\n",
    "        print(f\"Name: {row['Name']}, Age: {row['Age']}, City: {row['City']}\")\n",
    "\n",
    "display_data(data)"
   ]
  },
  {
   "cell_type": "code",
   "execution_count": 22,
   "id": "b682fee0-e5b8-4f9c-b569-82ca4ad4d88b",
   "metadata": {},
   "outputs": [
    {
     "data": {
      "image/png": "[encoded data removed]",
      "text/plain": [
       "<Figure size 800x500 with 1 Axes>"
      ]
     },
     "metadata": {},
     "output_type": "display_data"
    }
   ],
   "source": [
    "import matplotlib.pyplot as pyplot\n",
    "names = [row['Name'] for row in data]\n",
    "ages = [row['Age'] for row in data]\n",
    "pyplot.figure(figsize=(8, 5))  # Optional: Set the figure size\n",
    "pyplot.bar(names, ages)\n",
    "pyplot.xlabel('Name')\n",
    "pyplot.ylabel('Age')\n",
    "pyplot.title('Age Distribution')\n",
    "pyplot.show()"
   ]
  },
  {
   "cell_type": "code",
   "execution_count": 16,
   "id": "b01a325d-9f55-417b-9a0c-38e2a2001150",
   "metadata": {},
   "outputs": [
    {
     "data": {
      "text/html": [
       "<div style=\"width:100%;\"><div style=\"position:relative;width:100%;height:0;padding-bottom:60%;\"><span style=\"color:#565656\">Make this Notebook Trusted to load map: File -> Trust Notebook</span><iframe srcdoc=\"&lt;!DOCTYPE html&gt;\n",
       "&lt;html&gt;\n",
       "&lt;head&gt;\n",
       "    \n",
       "    &lt;meta http-equiv=&quot;content-type&quot; content=&quot;text/html; charset=UTF-8&quot; /&gt;\n",
       "    \n",
       "        &lt;script&gt;\n",
       "            L_NO_TOUCH = false;\n",
       "            L_DISABLE_3D = false;\n",
       "        &lt;/script&gt;\n",
       "    \n",
       "    &lt;style&gt;html, body {width: 100%;height: 100%;margin: 0;padding: 0;}&lt;/style&gt;\n",
       "    &lt;style&gt;#map {position:absolute;top:0;bottom:0;right:0;left:0;}&lt;/style&gt;\n",
       "    &lt;script src=&quot;https://cdn.jsdelivr.net/npm/leaflet@1.9.3/dist/leaflet.js&quot;&gt;&lt;/script&gt;\n",
       "    &lt;script src=&quot;https://code.jquery.com/jquery-1.12.4.min.js&quot;&gt;&lt;/script&gt;\n",
       "    &lt;script src=&quot;https://cdn.jsdelivr.net/npm/bootstrap@5.2.2/dist/js/bootstrap.bundle.min.js&quot;&gt;&lt;/script&gt;\n",
       "    &lt;script src=&quot;https://cdnjs.cloudflare.com/ajax/libs/Leaflet.awesome-markers/2.0.2/leaflet.awesome-markers.js&quot;&gt;&lt;/script&gt;\n",
       "    &lt;link rel=&quot;stylesheet&quot; href=&quot;https://cdn.jsdelivr.net/npm/leaflet@1.9.3/dist/leaflet.css&quot;/&gt;\n",
       "    &lt;link rel=&quot;stylesheet&quot; href=&quot;https://cdn.jsdelivr.net/npm/bootstrap@5.2.2/dist/css/bootstrap.min.css&quot;/&gt;\n",
       "    &lt;link rel=&quot;stylesheet&quot; href=&quot;https://netdna.bootstrapcdn.com/bootstrap/3.0.0/css/bootstrap.min.css&quot;/&gt;\n",
       "    &lt;link rel=&quot;stylesheet&quot; href=&quot;https://cdn.jsdelivr.net/npm/@fortawesome/fontawesome-free@6.2.0/css/all.min.css&quot;/&gt;\n",
       "    &lt;link rel=&quot;stylesheet&quot; href=&quot;https://cdnjs.cloudflare.com/ajax/libs/Leaflet.awesome-markers/2.0.2/leaflet.awesome-markers.css&quot;/&gt;\n",
       "    &lt;link rel=&quot;stylesheet&quot; href=&quot;https://cdn.jsdelivr.net/gh/python-visualization/folium/folium/templates/leaflet.awesome.rotate.min.css&quot;/&gt;\n",
       "    \n",
       "            &lt;meta name=&quot;viewport&quot; content=&quot;width=device-width,\n",
       "                initial-scale=1.0, maximum-scale=1.0, user-scalable=no&quot; /&gt;\n",
       "            &lt;style&gt;\n",
       "                #map_4123fbcc7209f6589b4e1e0326c48bd1 {\n",
       "                    position: relative;\n",
       "                    width: 100.0%;\n",
       "                    height: 100.0%;\n",
       "                    left: 0.0%;\n",
       "                    top: 0.0%;\n",
       "                }\n",
       "                .leaflet-container { font-size: 1rem; }\n",
       "            &lt;/style&gt;\n",
       "        \n",
       "&lt;/head&gt;\n",
       "&lt;body&gt;\n",
       "    \n",
       "    \n",
       "            &lt;div class=&quot;folium-map&quot; id=&quot;map_4123fbcc7209f6589b4e1e0326c48bd1&quot; &gt;&lt;/div&gt;\n",
       "        \n",
       "&lt;/body&gt;\n",
       "&lt;script&gt;\n",
       "    \n",
       "    \n",
       "            var map_4123fbcc7209f6589b4e1e0326c48bd1 = L.map(\n",
       "                &quot;map_4123fbcc7209f6589b4e1e0326c48bd1&quot;,\n",
       "                {\n",
       "                    center: [-33.8675, 151.2094],\n",
       "                    crs: L.CRS.EPSG3857,\n",
       "                    zoom: 12,\n",
       "                    zoomControl: true,\n",
       "                    preferCanvas: false,\n",
       "                }\n",
       "            );\n",
       "\n",
       "            \n",
       "\n",
       "        \n",
       "    \n",
       "            var tile_layer_2b7844b155723c4e616d932553508fae = L.tileLayer(\n",
       "                &quot;https://{s}.tile.openstreetmap.org/{z}/{x}/{y}.png&quot;,\n",
       "                {&quot;attribution&quot;: &quot;Data by \\u0026copy; \\u003ca target=\\&quot;_blank\\&quot; href=\\&quot;http://openstreetmap.org\\&quot;\\u003eOpenStreetMap\\u003c/a\\u003e, under \\u003ca target=\\&quot;_blank\\&quot; href=\\&quot;http://www.openstreetmap.org/copyright\\&quot;\\u003eODbL\\u003c/a\\u003e.&quot;, &quot;detectRetina&quot;: false, &quot;maxNativeZoom&quot;: 18, &quot;maxZoom&quot;: 18, &quot;minZoom&quot;: 0, &quot;noWrap&quot;: false, &quot;opacity&quot;: 1, &quot;subdomains&quot;: &quot;abc&quot;, &quot;tms&quot;: false}\n",
       "            ).addTo(map_4123fbcc7209f6589b4e1e0326c48bd1);\n",
       "        \n",
       "&lt;/script&gt;\n",
       "&lt;/html&gt;\" style=\"position:absolute;width:100%;height:100%;left:0;top:0;border:none !important;\" allowfullscreen webkitallowfullscreen mozallowfullscreen></iframe></div></div>"
      ],
      "text/plain": [
       "<folium.folium.Map at 0x10e9c4bd0>"
      ]
     },
     "execution_count": 16,
     "metadata": {},
     "output_type": "execute_result"
    }
   ],
   "source": [
    "import folium\n",
    "\n",
    "# Create a map centered at a specific location (e.g., Sydney, Australia)\n",
    "m = folium.Map(location=[-33.8675, 151.2094], zoom_start=12)\n",
    "\n",
    "# Display the map\n",
    "m\n"
   ]
  },
  {
   "cell_type": "code",
   "execution_count": null,
   "id": "1caa2cf1-eaa1-4111-852e-520aaa305242",
   "metadata": {},
   "outputs": [],
   "source": []
  }
 ],
 "metadata": {
  "kernelspec": {
   "display_name": "Python 3 (ipykernel)",
   "language": "python",
   "name": "python3"
  },
  "language_info": {
   "codemirror_mode": {
    "name": "ipython",
    "version": 3
   },
   "file_extension": ".py",
   "mimetype": "text/x-python",
   "name": "python",
   "nbconvert_exporter": "python",
   "pygments_lexer": "ipython3",
   "version": "3.11.6"
  }
 },
 "nbformat": 4,
 "nbformat_minor": 5
}
